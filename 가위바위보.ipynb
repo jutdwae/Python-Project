{
 "cells": [
  {
   "cell_type": "code",
   "execution_count": 191,
   "id": "80302527-e78c-4a18-a911-f38fd2b2f7b9",
   "metadata": {
    "scrolled": true
   },
   "outputs": [
    {
     "name": "stdin",
     "output_type": "stream",
     "text": [
      "사용자 이름 입력:  ddr\n",
      "낼 거 입력:  보\n"
     ]
    },
    {
     "name": "stdout",
     "output_type": "stream",
     "text": [
      "컴퓨터의 선택:  보\n",
      "비겼습니다. ㅡㅡ\n"
     ]
    },
    {
     "name": "stdin",
     "output_type": "stream",
     "text": [
      "낼 거 입력:  보\n"
     ]
    },
    {
     "name": "stdout",
     "output_type": "stream",
     "text": [
      "바위\n",
      "컴퓨터의 선택:  바위\n",
      "이겼습니다!!\n"
     ]
    },
    {
     "name": "stdin",
     "output_type": "stream",
     "text": [
      "낼 거 입력:  보\n"
     ]
    },
    {
     "name": "stdout",
     "output_type": "stream",
     "text": [
      "컴퓨터의 선택:  가위\n",
      "졌습니다. ㅠㅠ\n",
      "게임을 종료합니다.\n",
      "점수: 1\n",
      "점수 저장 완료!\n",
      "1위: dfdjhfkd 63점\n",
      "2위: 김우효 3점\n",
      "3위: ㅇ 1점\n",
      "3위: 왕표비 1점\n",
      "3위: dr 1점\n",
      "3위: ddr 1점\n",
      "4위: ㄱㄱ 0점\n",
      "4위: 왕표비 0점\n"
     ]
    }
   ],
   "source": [
    "import random\n",
    "import pickle\n",
    "import pandas as pd\n",
    "\n",
    "# 함수 정의\n",
    "def save():\n",
    "    A = [name, score]\n",
    "    if A not in rsp_score :\n",
    "        rsp_score.append(A)\n",
    "        f = open(\"rsp_score.dat\", 'wb')\n",
    "        pickle.dump(rsp_score, f)\n",
    "        f.close()\n",
    "        print(\"점수 저장 완료!\")\n",
    "\n",
    "def show_rank():\n",
    "    rsp_score.sort(key=lambda i: i[1], reverse=True)\n",
    "    # for name, score in rsp_score:\n",
    "    #     print(f\"{name} | {score}점\")\n",
    "    result = pd.DataFrame(rsp_score, columns = ['이름', '점수'])\n",
    "    result[\"순위\"] = result['점수'].rank(ascending = False, method = 'dense')\n",
    "\n",
    "    for i in range(len(result)) :\n",
    "        row = result.iloc[i]\n",
    "\n",
    "        name = row['이름']\n",
    "        score = row['점수']\n",
    "        rank = row['순위']\n",
    "        print(f\"{int(rank)}위: {name} {score}점\")\n",
    " \n",
    "# 기본값\n",
    "score = 0\n",
    "plus = 1\n",
    "\n",
    "# 초기 파일 생성\n",
    "f = open(\"rsp_score.dat\", \"w\")\n",
    "f.close()\n",
    "\n",
    "# 이름 입력\n",
    "global name\n",
    "name = input(\"사용자 이름 입력: \")\n",
    "\n",
    "# 게임 진행\n",
    "while True:\n",
    "    rsp = input(\"낼 거 입력: \")\n",
    "    com = random.choice(['가위', '바위', '보'])\n",
    "    \n",
    "    if rsp == com :\n",
    "        print(\"컴퓨터의 선택: \", com)\n",
    "        print(\"비겼습니다. ㅡㅡ\")\n",
    "        \n",
    "    elif (rsp == \"가위\" and com == \"보\") or (rsp == \"바위\" and com == \"가위\") or (rsp == \"보\" and com == \"바위\") :\n",
    "        print(com)\n",
    "        print(\"컴퓨터의 선택: \", com)\n",
    "        print(\"이겼습니다!!\")\n",
    "        if score == 0 :\n",
    "            score += 1\n",
    "        else:\n",
    "            plus *= 2\n",
    "            score += plus\n",
    "                \n",
    "    else :\n",
    "        print(\"컴퓨터의 선택: \", com)\n",
    "        print(\"졌습니다. ㅠㅠ\\n게임을 종료합니다.\")\n",
    "        plus = 0\n",
    "        score += plus\n",
    "        print(\"점수:\", int(score))\n",
    "        save()\n",
    "        show_rank()\n",
    "        break"
   ]
  },
  {
   "cell_type": "code",
   "execution_count": 180,
   "id": "f43d23bf-aca6-43ad-bdb3-4ae54a3f6873",
   "metadata": {
    "scrolled": true
   },
   "outputs": [
    {
     "data": {
      "text/plain": [
       "[['김우효', 3], ['ㅇ', 1], ['왕표비', 1], ['ㄱㄱ', 0], ['왕표비', 0]]"
      ]
     },
     "execution_count": 180,
     "metadata": {},
     "output_type": "execute_result"
    }
   ],
   "source": [
    "rsp_score"
   ]
  },
  {
   "cell_type": "code",
   "execution_count": 188,
   "id": "d6446757-6807-44f4-8294-3b2410b36972",
   "metadata": {},
   "outputs": [
    {
     "data": {
      "text/plain": [
       "3"
      ]
     },
     "execution_count": 188,
     "metadata": {},
     "output_type": "execute_result"
    }
   ],
   "source": [
    "rsp_score[0][1]"
   ]
  },
  {
   "cell_type": "code",
   "execution_count": null,
   "id": "baf03c39-42dd-4ba7-b3c4-ecc3d53932cd",
   "metadata": {},
   "outputs": [],
   "source": [
    "# 업데이트"
   ]
  }
 ],
 "metadata": {
  "kernelspec": {
   "display_name": "Python 3 (ipykernel)",
   "language": "python",
   "name": "python3"
  },
  "language_info": {
   "codemirror_mode": {
    "name": "ipython",
    "version": 3
   },
   "file_extension": ".py",
   "mimetype": "text/x-python",
   "name": "python",
   "nbconvert_exporter": "python",
   "pygments_lexer": "ipython3",
   "version": "3.12.7"
  }
 },
 "nbformat": 4,
 "nbformat_minor": 5
}
